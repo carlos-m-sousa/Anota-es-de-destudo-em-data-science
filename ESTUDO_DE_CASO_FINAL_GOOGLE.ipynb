{
 "cells": [
  {
   "cell_type": "markdown",
   "id": "07a5c18c-18d4-47d4-a3dc-ea4a1ca2580f",
   "metadata": {},
   "source": [
    "# ESTUDO DE CASO REALIZADO COMO TRABALHO FINAL DO CURSO GOOGLE DATA ANALYTICS"
   ]
  },
  {
   "cell_type": "markdown",
   "id": "7f7f3ab7-8af9-44f8-bea5-087cedb23ec9",
   "metadata": {},
   "source": [
    "**CENÁRIO**\n",
    "\n",
    "Você é um analista de dados júnior que trabalha na equipe de analistas de marketing da Bellabeat, uma fabricante de produtos de alta tecnologia voltados à saúde para mulheres. A Bellabeat é uma pequena empresa de sucesso, mas tem potencial para se adquirir maior participação no mercado\r\n",
    " \r\n",
    "\r\n",
    "global de dispositivos inteligentes. Urška Sršen, cofundadora e CEO da Bellabeat, acredita que a análise de dados de condicionamento físico a partir de dispositivos inteligentes pode ajudar a abrir novas oportunidades de crescimento para a empresa. Foi solicitado que você se concentre em um dos produtos da Bellabeat e analise dados de dispositivos inteligentes para obter informações sobre como os consumidores estão usando esses dispositivos. Os insights que você descobrir ajudarão a orientar a estratégia de marketing da empresa. Você apresentará sua análise à equipe executiva da Bellabeat juntamente com suas recomendações de alto nível para a estratégia de marketing da empresa.\r\n"
   ]
  },
  {
   "cell_type": "markdown",
   "id": "e0af9508-4cf2-40ab-96b2-0f66c8fc17fd",
   "metadata": {},
   "source": [
    "**PERGUNTAS DE NEGÓCIO**\n",
    "\n",
    "A CEO da Bellabeat solicita que você analise os dados de uso de dispositivos inteligentes para obter informações sobre como os consumidores usam dispositivos inteligentes\n",
    "que não são da Bellabeat. Em seguida, ela quer que você selecione um produto da Bellabeat para aplicar esses insights em sua apresentação. \n",
    "Estas perguntas deverão nortear sua análise:\n",
    " \n",
    "1.\tQuais são algumas das tendências no uso de dispositivos inteligentes?\n",
    "2.\tComo essas tendências podem se aplicar aos clientes da Bellabeat?\n",
    "3.\tComo essas tendências podem ajudar a influenciar a estratégia de marketing da Bellabeat?\n"
   ]
  },
  {
   "cell_type": "code",
   "execution_count": 1,
   "id": "f08f745e-f2c2-45f0-bef5-4e2a50d35123",
   "metadata": {},
   "outputs": [],
   "source": [
    "# IMPORTAÇÃO DAS BIBLIOTECAS\n",
    "import pandas as pd\n",
    "import numpy as np"
   ]
  },
  {
   "cell_type": "markdown",
   "id": "3c9af64d-1f8b-4e44-940d-28074ff4a43f",
   "metadata": {},
   "source": [
    "# COLETA DOS DADOS"
   ]
  },
  {
   "cell_type": "markdown",
   "id": "2d32b55b-1a9b-4eb3-a0be-8675a1df9e82",
   "metadata": {},
   "source": [
    "Os dados utilizados no presente estudo são os do rastreador de condicionamento físico FitBit (CC0: Domínio público, conjunto de dados disponibilizado por meio de Mobius):\n",
    "Este conjunto de dados de Kaggle contém um rastreador de condicionamento físico pessoal de trinta usuários do Fitbit. Trinta usuários elegíveis do Fitbit consentiram com \n",
    "o envio de dados pessoais do rastreador, incluindo os resultados a cada minuto de atividade física, frequência cardíaca e monitoramento do sono.\n",
    "São abrangidas informações sobre atividades diárias, passos e frequência cardíaca que podem ser usadas para explorar os hábitos dos usuários.\n",
    "\n",
    "link para os dados <https://www.kaggle.com/datasets/arashnic/fitbit>"
   ]
  },
  {
   "cell_type": "code",
   "execution_count": 2,
   "id": "77a01182-d8cd-4e38-8ad1-966e149f8208",
   "metadata": {},
   "outputs": [],
   "source": [
    "# COLETA DE DADOS\n",
    "# OS DATASETS FORAM SALVOS NO MESMO DIRETÓRIO DE TRABALHO DO JUPYTER LAB\n",
    "lista_data_frames=[]\n",
    "lista_dados=['dailyActivity_merged','dailyCalories_merged','dailyIntensities_merged','dailySteps_merged',\n",
    "             'heartrate_seconds_merged','hourlyCalories_merged','hourlyIntensities_merged',\n",
    "            'hourlySteps_merged','minuteCaloriesNarrow_merged','minuteCaloriesWide_merged','minuteIntensitiesNarrow_merged',\n",
    "            'minuteIntensitiesWide_merged','minuteMETsNarrow_merged','minuteSleep_merged','minuteStepsNarrow_merged',\n",
    "            'minuteStepsWide_merged','sleepDay_merged','weightLogInfo_merged']\n",
    "for data in lista_dados:\n",
    "    dados = pd.read_csv(data +'.csv')\n",
    "    lista_data_frames.append(dados)"
   ]
  },
  {
   "cell_type": "code",
   "execution_count": 3,
   "id": "3a8a07ef-61a4-45b6-87f3-515f8d13df46",
   "metadata": {},
   "outputs": [
    {
     "name": "stdout",
     "output_type": "stream",
     "text": [
      "dailyActivity_merged : \n",
      "\n",
      "\n",
      "           Id ActivityDate  TotalSteps  TotalDistance  TrackerDistance  \\\n",
      "0  1503960366    4/12/2016       13162           8.50             8.50   \n",
      "1  1503960366    4/13/2016       10735           6.97             6.97   \n",
      "2  1503960366    4/14/2016       10460           6.74             6.74   \n",
      "3  1503960366    4/15/2016        9762           6.28             6.28   \n",
      "4  1503960366    4/16/2016       12669           8.16             8.16   \n",
      "\n",
      "   LoggedActivitiesDistance  VeryActiveDistance  ModeratelyActiveDistance  \\\n",
      "0                       0.0                1.88                      0.55   \n",
      "1                       0.0                1.57                      0.69   \n",
      "2                       0.0                2.44                      0.40   \n",
      "3                       0.0                2.14                      1.26   \n",
      "4                       0.0                2.71                      0.41   \n",
      "\n",
      "   LightActiveDistance  SedentaryActiveDistance  VeryActiveMinutes  \\\n",
      "0                 6.06                      0.0                 25   \n",
      "1                 4.71                      0.0                 21   \n",
      "2                 3.91                      0.0                 30   \n",
      "3                 2.83                      0.0                 29   \n",
      "4                 5.04                      0.0                 36   \n",
      "\n",
      "   FairlyActiveMinutes  LightlyActiveMinutes  SedentaryMinutes  Calories  \n",
      "0                   13                   328               728      1985  \n",
      "1                   19                   217               776      1797  \n",
      "2                   11                   181              1218      1776  \n",
      "3                   34                   209               726      1745  \n",
      "4                   10                   221               773      1863   \n",
      " ******************************************************************************** \n",
      "\n",
      "\n",
      "\n",
      "dailyCalories_merged : \n",
      "\n",
      "\n",
      "           Id ActivityDay  Calories\n",
      "0  1503960366   4/12/2016      1985\n",
      "1  1503960366   4/13/2016      1797\n",
      "2  1503960366   4/14/2016      1776\n",
      "3  1503960366   4/15/2016      1745\n",
      "4  1503960366   4/16/2016      1863 \n",
      " ******************************************************************************** \n",
      "\n",
      "\n",
      "\n",
      "dailyIntensities_merged : \n",
      "\n",
      "\n",
      "           Id ActivityDay  SedentaryMinutes  LightlyActiveMinutes  \\\n",
      "0  1503960366   4/12/2016               728                   328   \n",
      "1  1503960366   4/13/2016               776                   217   \n",
      "2  1503960366   4/14/2016              1218                   181   \n",
      "3  1503960366   4/15/2016               726                   209   \n",
      "4  1503960366   4/16/2016               773                   221   \n",
      "\n",
      "   FairlyActiveMinutes  VeryActiveMinutes  SedentaryActiveDistance  \\\n",
      "0                   13                 25                      0.0   \n",
      "1                   19                 21                      0.0   \n",
      "2                   11                 30                      0.0   \n",
      "3                   34                 29                      0.0   \n",
      "4                   10                 36                      0.0   \n",
      "\n",
      "   LightActiveDistance  ModeratelyActiveDistance  VeryActiveDistance  \n",
      "0                 6.06                      0.55                1.88  \n",
      "1                 4.71                      0.69                1.57  \n",
      "2                 3.91                      0.40                2.44  \n",
      "3                 2.83                      1.26                2.14  \n",
      "4                 5.04                      0.41                2.71   \n",
      " ******************************************************************************** \n",
      "\n",
      "\n",
      "\n",
      "dailySteps_merged : \n",
      "\n",
      "\n",
      "           Id ActivityDay  StepTotal\n",
      "0  1503960366   4/12/2016      13162\n",
      "1  1503960366   4/13/2016      10735\n",
      "2  1503960366   4/14/2016      10460\n",
      "3  1503960366   4/15/2016       9762\n",
      "4  1503960366   4/16/2016      12669 \n",
      " ******************************************************************************** \n",
      "\n",
      "\n",
      "\n",
      "heartrate_seconds_merged : \n",
      "\n",
      "\n",
      "           Id                  Time  Value\n",
      "0  2022484408  4/12/2016 7:21:00 AM     97\n",
      "1  2022484408  4/12/2016 7:21:05 AM    102\n",
      "2  2022484408  4/12/2016 7:21:10 AM    105\n",
      "3  2022484408  4/12/2016 7:21:20 AM    103\n",
      "4  2022484408  4/12/2016 7:21:25 AM    101 \n",
      " ******************************************************************************** \n",
      "\n",
      "\n",
      "\n",
      "hourlyCalories_merged : \n",
      "\n",
      "\n",
      "           Id           ActivityHour  Calories\n",
      "0  1503960366  4/12/2016 12:00:00 AM        81\n",
      "1  1503960366   4/12/2016 1:00:00 AM        61\n",
      "2  1503960366   4/12/2016 2:00:00 AM        59\n",
      "3  1503960366   4/12/2016 3:00:00 AM        47\n",
      "4  1503960366   4/12/2016 4:00:00 AM        48 \n",
      " ******************************************************************************** \n",
      "\n",
      "\n",
      "\n",
      "hourlyIntensities_merged : \n",
      "\n",
      "\n",
      "           Id           ActivityHour  TotalIntensity  AverageIntensity\n",
      "0  1503960366  4/12/2016 12:00:00 AM              20          0.333333\n",
      "1  1503960366   4/12/2016 1:00:00 AM               8          0.133333\n",
      "2  1503960366   4/12/2016 2:00:00 AM               7          0.116667\n",
      "3  1503960366   4/12/2016 3:00:00 AM               0          0.000000\n",
      "4  1503960366   4/12/2016 4:00:00 AM               0          0.000000 \n",
      " ******************************************************************************** \n",
      "\n",
      "\n",
      "\n",
      "hourlySteps_merged : \n",
      "\n",
      "\n",
      "           Id           ActivityHour  StepTotal\n",
      "0  1503960366  4/12/2016 12:00:00 AM        373\n",
      "1  1503960366   4/12/2016 1:00:00 AM        160\n",
      "2  1503960366   4/12/2016 2:00:00 AM        151\n",
      "3  1503960366   4/12/2016 3:00:00 AM          0\n",
      "4  1503960366   4/12/2016 4:00:00 AM          0 \n",
      " ******************************************************************************** \n",
      "\n",
      "\n",
      "\n",
      "minuteCaloriesNarrow_merged : \n",
      "\n",
      "\n",
      "           Id         ActivityMinute  Calories\n",
      "0  1503960366  4/12/2016 12:00:00 AM    0.7865\n",
      "1  1503960366  4/12/2016 12:01:00 AM    0.7865\n",
      "2  1503960366  4/12/2016 12:02:00 AM    0.7865\n",
      "3  1503960366  4/12/2016 12:03:00 AM    0.7865\n",
      "4  1503960366  4/12/2016 12:04:00 AM    0.7865 \n",
      " ******************************************************************************** \n",
      "\n",
      "\n",
      "\n",
      "minuteCaloriesWide_merged : \n",
      "\n",
      "\n",
      "           Id           ActivityHour  Calories00  Calories01  Calories02  \\\n",
      "0  1503960366  4/13/2016 12:00:00 AM      1.8876      2.2022      0.9438   \n",
      "1  1503960366   4/13/2016 1:00:00 AM      0.7865      0.7865      0.7865   \n",
      "2  1503960366   4/13/2016 2:00:00 AM      0.7865      0.7865      0.7865   \n",
      "3  1503960366   4/13/2016 3:00:00 AM      0.7865      0.7865      0.7865   \n",
      "4  1503960366   4/13/2016 4:00:00 AM      0.7865      0.7865      0.7865   \n",
      "\n",
      "   Calories03  Calories04  Calories05  Calories06  Calories07  ...  \\\n",
      "0      0.9438      0.9438      2.0449      0.9438      2.2022  ...   \n",
      "1      0.7865      0.9438      0.9438      0.9438      0.7865  ...   \n",
      "2      0.7865      0.7865      0.7865      0.7865      0.7865  ...   \n",
      "3      0.7865      0.7865      0.7865      0.7865      0.7865  ...   \n",
      "4      0.7865      0.7865      0.7865      0.7865      0.7865  ...   \n",
      "\n",
      "   Calories50  Calories51  Calories52  Calories53  Calories54  Calories55  \\\n",
      "0      0.9438      2.0449      2.0449      0.9438      2.3595      1.8876   \n",
      "1      0.7865      0.7865      0.7865      0.7865      0.7865      0.7865   \n",
      "2      0.7865      0.7865      0.7865      0.7865      0.7865      0.7865   \n",
      "3      0.7865      0.7865      0.7865      0.7865      0.7865      0.7865   \n",
      "4      0.7865      0.7865      0.7865      0.7865      0.7865      0.7865   \n",
      "\n",
      "   Calories56  Calories57  Calories58  Calories59  \n",
      "0      0.9438      0.9438      0.9438      0.9438  \n",
      "1      0.7865      0.7865      0.7865      0.7865  \n",
      "2      0.7865      0.7865      0.7865      0.7865  \n",
      "3      0.7865      0.7865      0.7865      0.7865  \n",
      "4      0.7865      0.7865      0.7865      0.7865  \n",
      "\n",
      "[5 rows x 62 columns] \n",
      " ******************************************************************************** \n",
      "\n",
      "\n",
      "\n",
      "minuteIntensitiesNarrow_merged : \n",
      "\n",
      "\n",
      "           Id         ActivityMinute  Intensity\n",
      "0  1503960366  4/12/2016 12:00:00 AM          0\n",
      "1  1503960366  4/12/2016 12:01:00 AM          0\n",
      "2  1503960366  4/12/2016 12:02:00 AM          0\n",
      "3  1503960366  4/12/2016 12:03:00 AM          0\n",
      "4  1503960366  4/12/2016 12:04:00 AM          0 \n",
      " ******************************************************************************** \n",
      "\n",
      "\n",
      "\n",
      "minuteIntensitiesWide_merged : \n",
      "\n",
      "\n",
      "           Id           ActivityHour  Intensity00  Intensity01  Intensity02  \\\n",
      "0  1503960366  4/13/2016 12:00:00 AM            1            1            0   \n",
      "1  1503960366   4/13/2016 1:00:00 AM            0            0            0   \n",
      "2  1503960366   4/13/2016 2:00:00 AM            0            0            0   \n",
      "3  1503960366   4/13/2016 3:00:00 AM            0            0            0   \n",
      "4  1503960366   4/13/2016 4:00:00 AM            0            0            0   \n",
      "\n",
      "   Intensity03  Intensity04  Intensity05  Intensity06  Intensity07  ...  \\\n",
      "0            0            0            1            0            1  ...   \n",
      "1            0            0            0            0            0  ...   \n",
      "2            0            0            0            0            0  ...   \n",
      "3            0            0            0            0            0  ...   \n",
      "4            0            0            0            0            0  ...   \n",
      "\n",
      "   Intensity50  Intensity51  Intensity52  Intensity53  Intensity54  \\\n",
      "0            0            1            1            0            1   \n",
      "1            0            0            0            0            0   \n",
      "2            0            0            0            0            0   \n",
      "3            0            0            0            0            0   \n",
      "4            0            0            0            0            0   \n",
      "\n",
      "   Intensity55  Intensity56  Intensity57  Intensity58  Intensity59  \n",
      "0            1            0            0            0            0  \n",
      "1            0            0            0            0            0  \n",
      "2            0            0            0            0            0  \n",
      "3            0            0            0            0            0  \n",
      "4            0            0            0            0            0  \n",
      "\n",
      "[5 rows x 62 columns] \n",
      " ******************************************************************************** \n",
      "\n",
      "\n",
      "\n",
      "minuteMETsNarrow_merged : \n",
      "\n",
      "\n",
      "           Id         ActivityMinute  METs\n",
      "0  1503960366  4/12/2016 12:00:00 AM    10\n",
      "1  1503960366  4/12/2016 12:01:00 AM    10\n",
      "2  1503960366  4/12/2016 12:02:00 AM    10\n",
      "3  1503960366  4/12/2016 12:03:00 AM    10\n",
      "4  1503960366  4/12/2016 12:04:00 AM    10 \n",
      " ******************************************************************************** \n",
      "\n",
      "\n",
      "\n",
      "minuteSleep_merged : \n",
      "\n",
      "\n",
      "           Id                  date  value        logId\n",
      "0  1503960366  4/12/2016 2:47:30 AM      3  11380564589\n",
      "1  1503960366  4/12/2016 2:48:30 AM      2  11380564589\n",
      "2  1503960366  4/12/2016 2:49:30 AM      1  11380564589\n",
      "3  1503960366  4/12/2016 2:50:30 AM      1  11380564589\n",
      "4  1503960366  4/12/2016 2:51:30 AM      1  11380564589 \n",
      " ******************************************************************************** \n",
      "\n",
      "\n",
      "\n",
      "minuteStepsNarrow_merged : \n",
      "\n",
      "\n",
      "           Id         ActivityMinute  Steps\n",
      "0  1503960366  4/12/2016 12:00:00 AM      0\n",
      "1  1503960366  4/12/2016 12:01:00 AM      0\n",
      "2  1503960366  4/12/2016 12:02:00 AM      0\n",
      "3  1503960366  4/12/2016 12:03:00 AM      0\n",
      "4  1503960366  4/12/2016 12:04:00 AM      0 \n",
      " ******************************************************************************** \n",
      "\n",
      "\n",
      "\n",
      "minuteStepsWide_merged : \n",
      "\n",
      "\n",
      "           Id           ActivityHour  Steps00  Steps01  Steps02  Steps03  \\\n",
      "0  1503960366  4/13/2016 12:00:00 AM        4       16        0        0   \n",
      "1  1503960366   4/13/2016 1:00:00 AM        0        0        0        0   \n",
      "2  1503960366   4/13/2016 2:00:00 AM        0        0        0        0   \n",
      "3  1503960366   4/13/2016 3:00:00 AM        0        0        0        0   \n",
      "4  1503960366   4/13/2016 4:00:00 AM        0        0        0        0   \n",
      "\n",
      "   Steps04  Steps05  Steps06  Steps07  ...  Steps50  Steps51  Steps52  \\\n",
      "0        0        9        0       17  ...        0        9        8   \n",
      "1        0        0        0        0  ...        0        0        0   \n",
      "2        0        0        0        0  ...        0        0        0   \n",
      "3        0        0        0        0  ...        0        0        0   \n",
      "4        0        0        0        0  ...        0        0        0   \n",
      "\n",
      "   Steps53  Steps54  Steps55  Steps56  Steps57  Steps58  Steps59  \n",
      "0        0       20        1        0        0        0        0  \n",
      "1        0        0        0        0        0        0        0  \n",
      "2        0        0        0        0        0        0        0  \n",
      "3        0        0        0        0        0        0        0  \n",
      "4        0        0        0        0        0        0        0  \n",
      "\n",
      "[5 rows x 62 columns] \n",
      " ******************************************************************************** \n",
      "\n",
      "\n",
      "\n",
      "sleepDay_merged : \n",
      "\n",
      "\n",
      "           Id               SleepDay  TotalSleepRecords  TotalMinutesAsleep  \\\n",
      "0  1503960366  4/12/2016 12:00:00 AM                  1                 327   \n",
      "1  1503960366  4/13/2016 12:00:00 AM                  2                 384   \n",
      "2  1503960366  4/15/2016 12:00:00 AM                  1                 412   \n",
      "3  1503960366  4/16/2016 12:00:00 AM                  2                 340   \n",
      "4  1503960366  4/17/2016 12:00:00 AM                  1                 700   \n",
      "\n",
      "   TotalTimeInBed  \n",
      "0             346  \n",
      "1             407  \n",
      "2             442  \n",
      "3             367  \n",
      "4             712   \n",
      " ******************************************************************************** \n",
      "\n",
      "\n",
      "\n",
      "weightLogInfo_merged : \n",
      "\n",
      "\n",
      "           Id                   Date    WeightKg  WeightPounds   Fat  \\\n",
      "0  1503960366   5/2/2016 11:59:59 PM   52.599998    115.963147  22.0   \n",
      "1  1503960366   5/3/2016 11:59:59 PM   52.599998    115.963147   NaN   \n",
      "2  1927972279   4/13/2016 1:08:52 AM  133.500000    294.317120   NaN   \n",
      "3  2873212765  4/21/2016 11:59:59 PM   56.700001    125.002104   NaN   \n",
      "4  2873212765  5/12/2016 11:59:59 PM   57.299999    126.324875   NaN   \n",
      "\n",
      "         BMI  IsManualReport          LogId  \n",
      "0  22.650000            True  1462233599000  \n",
      "1  22.650000            True  1462319999000  \n",
      "2  47.540001           False  1460509732000  \n",
      "3  21.450001            True  1461283199000  \n",
      "4  21.690001            True  1463097599000   \n",
      " ******************************************************************************** \n",
      "\n",
      "\n",
      "\n"
     ]
    }
   ],
   "source": [
    "#EXIBE PARCIALMENTE TODAS AS TABELAS\n",
    "for index in range(0,18):\n",
    "    print(lista_dados[index],':','\\n'*2) # EXIBINDO O NOME DO DATASET\n",
    "    print(lista_data_frames[index].head(5),'\\n','*'*80,'\\n'*3) # EXIBINDO OS DADOS"
   ]
  },
  {
   "cell_type": "markdown",
   "id": "f4a46b2d-5d63-4503-9de6-7eeb4f6b3629",
   "metadata": {},
   "source": [
    "## OVERVIEW DOS DATASETS"
   ]
  },
  {
   "cell_type": "markdown",
   "id": "279ad6fa-6d2d-4969-80f8-75b2f82fa368",
   "metadata": {},
   "source": [
    "* **[0]dailyActivity_merged**: Registro do número de passos, distância total percorrida, distãncias percorridas em  alto, moderado,leve e sedentário estado ativo, marca também o tempo nesses estados( por minuto), por fim , marca as calorias totais gastas.\n",
    "\n",
    "* **[1]dailyCalories_merged**: Registro diário das calorias gastas.\n",
    "\n",
    "* **[2]dailyIntensities_merged**:  Registra o tempo em minutos do estado ativo e distância percorrida nesses estados.\n",
    "\n",
    "* **[3]dailySteps_merged**: Registro dos passos diários.\n",
    "\n",
    "* **[4]heartrate_seconds_merged**: Registro da frequência cardíaca a cada 5 segundos.\n",
    "\n",
    "* **[5]hourlyCalories_merged**: Registro do número de calorias gasto por hora.\n",
    "\n",
    "* **[6]hourlyIntensities_merged**: Registro da intensidade do estado ativo medido por hora.\n",
    "\n",
    "* **[7]hourlySteps_merged**: Registro do número de passos por hora.\n",
    "\n",
    "* **[8]minuteCaloriesNarrow_merged**: Registro das calorias gastas por minuto.\n",
    "\n",
    "* **[9]minuteCaloriesWide_merged**: Registro das calorias gastas por minuto na veresão ampla.\n",
    "\n",
    "* **[10]minuteIntensitiesNarrow_merged**: Registro do estado de intensidade de atividade por minuto.\n",
    "\n",
    "* **[11]minuteIntensitiesWide_merged**: Registro do estado de intensidade de atividade por minuto versão ampla.\n",
    "\n",
    "* **[12]minuteMETsNarrow_merged**: Registro do MET por minuto.\n",
    "\n",
    "* **[13]minuteSleep_merged**: Registro do sono por minuto.\n",
    "\n",
    "* **[14]minuteStepsNarrow_merged**: Registro dos passos por minuto.\n",
    "\n",
    "* **[15]minuteStepsWide_merged**: Registro dos passos por minuto na versão ampla.\n",
    "\n",
    "* **[16]sleepDay_merged**: Registro de minutos dormidos por dia e de minutos na cama ( bom para ver questões de insônia).\n",
    "\n",
    "* **[17]weightLogInfo_merged**: Registro do peso do usuário."
   ]
  },
  {
   "cell_type": "markdown",
   "id": "74b9e3fa-5a21-44bb-b09a-03b40e79965b",
   "metadata": {},
   "source": [
    "##### OS SEGUINTES CONJUNTOS DE DADOS FORAM SELECIONADOS PARA ANÁLISE: \n",
    "* dailyActivity_merged\n",
    "* sleepDay_merged\n",
    "* hourlyCalories_merged\n",
    "* hourlySteps_merged\n",
    "  \n",
    " Obs.: Os dados de peso do usuário não foram objeto de análise, pois se limitavam a informações de oito indivíduos. "
   ]
  },
  {
   "cell_type": "markdown",
   "id": "cfb636fa-f54a-4bea-8093-5e5d2281a90b",
   "metadata": {},
   "source": [
    "# LIMPEZA E TRATAMENTO DOS DADOS"
   ]
  },
  {
   "cell_type": "markdown",
   "id": "3a7727f5-e466-4ffe-8755-9cb9298d7caa",
   "metadata": {},
   "source": [
    "## LIMPEZA E TRATAMENTO 'dailyActivity_merged'"
   ]
  },
  {
   "cell_type": "code",
   "execution_count": 4,
   "id": "9483049d-c091-4dec-8149-065923f9f390",
   "metadata": {},
   "outputs": [
    {
     "data": {
      "text/plain": [
       "Id                            int64\n",
       "ActivityDate                 object\n",
       "TotalSteps                    int64\n",
       "TotalDistance               float64\n",
       "TrackerDistance             float64\n",
       "LoggedActivitiesDistance    float64\n",
       "VeryActiveDistance          float64\n",
       "ModeratelyActiveDistance    float64\n",
       "LightActiveDistance         float64\n",
       "SedentaryActiveDistance     float64\n",
       "VeryActiveMinutes             int64\n",
       "FairlyActiveMinutes           int64\n",
       "LightlyActiveMinutes          int64\n",
       "SedentaryMinutes              int64\n",
       "Calories                      int64\n",
       "dtype: object"
      ]
     },
     "execution_count": 4,
     "metadata": {},
     "output_type": "execute_result"
    }
   ],
   "source": [
    "# carga dos dados na variável\n",
    "dados_atividade_diaria = lista_data_frames[0] # OPÇÃO PARA TODOS OS ARQUIVOS SALVOS LOCALMENTE\n",
    "# verificação dos tipos de dados no dataframe\n",
    "dados_atividade_diaria.dtypes"
   ]
  },
  {
   "cell_type": "code",
   "execution_count": 5,
   "id": "5f8265f1-db58-4aa4-948a-d1cf21af1b35",
   "metadata": {},
   "outputs": [
    {
     "data": {
      "text/plain": [
       "Id                                   int64\n",
       "ActivityDate                datetime64[ns]\n",
       "TotalSteps                           int64\n",
       "TotalDistance                      float64\n",
       "TrackerDistance                    float64\n",
       "LoggedActivitiesDistance           float64\n",
       "VeryActiveDistance                 float64\n",
       "ModeratelyActiveDistance           float64\n",
       "LightActiveDistance                float64\n",
       "SedentaryActiveDistance            float64\n",
       "VeryActiveMinutes                    int64\n",
       "FairlyActiveMinutes                  int64\n",
       "LightlyActiveMinutes                 int64\n",
       "SedentaryMinutes                     int64\n",
       "Calories                             int64\n",
       "dtype: object"
      ]
     },
     "execution_count": 5,
     "metadata": {},
     "output_type": "execute_result"
    }
   ],
   "source": [
    "# ActivityDate é do tipo objeto, é necessário alterar para datetime\n",
    "dados_atividade_diaria['ActivityDate']= pd.to_datetime(dados_atividade_diaria['ActivityDate'])\n",
    "dados_atividade_diaria.dtypes"
   ]
  },
  {
   "cell_type": "code",
   "execution_count": 6,
   "id": "5f8f3da5-6790-4999-ba98-06bab1b92f15",
   "metadata": {},
   "outputs": [
    {
     "data": {
      "text/plain": [
       "Id                          0\n",
       "ActivityDate                0\n",
       "TotalSteps                  0\n",
       "TotalDistance               0\n",
       "TrackerDistance             0\n",
       "LoggedActivitiesDistance    0\n",
       "VeryActiveDistance          0\n",
       "ModeratelyActiveDistance    0\n",
       "LightActiveDistance         0\n",
       "SedentaryActiveDistance     0\n",
       "VeryActiveMinutes           0\n",
       "FairlyActiveMinutes         0\n",
       "LightlyActiveMinutes        0\n",
       "SedentaryMinutes            0\n",
       "Calories                    0\n",
       "dtype: int64"
      ]
     },
     "execution_count": 6,
     "metadata": {},
     "output_type": "execute_result"
    }
   ],
   "source": [
    "# VERIFICANDO OS DADOS FALTANTES\n",
    "dados_atividade_diaria.isnull().sum() # NÃO HÁ DADOS FALTANTES"
   ]
  },
  {
   "cell_type": "markdown",
   "id": "82db32b7-4c6b-4b8c-a076-800da7be194b",
   "metadata": {},
   "source": [
    "## LIMPEZA E TRATAMENTO 'sleepDay_merged'"
   ]
  },
  {
   "cell_type": "code",
   "execution_count": 7,
   "id": "eec755f7-92d1-481a-bfe0-2266ae4ee650",
   "metadata": {},
   "outputs": [
    {
     "data": {
      "text/plain": [
       "Id                     int64\n",
       "SleepDay              object\n",
       "TotalSleepRecords      int64\n",
       "TotalMinutesAsleep     int64\n",
       "TotalTimeInBed         int64\n",
       "dtype: object"
      ]
     },
     "execution_count": 7,
     "metadata": {},
     "output_type": "execute_result"
    }
   ],
   "source": [
    "# carga dos dados na variável\n",
    "dados_sono = lista_data_frames[16]\n",
    "# verificação dos tipos de dados no dataframe\n",
    "dados_sono.dtypes"
   ]
  },
  {
   "cell_type": "code",
   "execution_count": 8,
   "id": "e8864d3b-1768-45e3-a958-fd70bdf4cda1",
   "metadata": {},
   "outputs": [
    {
     "name": "stderr",
     "output_type": "stream",
     "text": [
      "C:\\Users\\SGTME\\AppData\\Local\\Temp\\ipykernel_11988\\884595608.py:2: UserWarning: Could not infer format, so each element will be parsed individually, falling back to `dateutil`. To ensure parsing is consistent and as-expected, please specify a format.\n",
      "  dados_sono['SleepDay']= pd.to_datetime(dados_sono['SleepDay'])\n"
     ]
    },
    {
     "data": {
      "text/plain": [
       "Id                             int64\n",
       "SleepDay              datetime64[ns]\n",
       "TotalSleepRecords              int64\n",
       "TotalMinutesAsleep             int64\n",
       "TotalTimeInBed                 int64\n",
       "dtype: object"
      ]
     },
     "execution_count": 8,
     "metadata": {},
     "output_type": "execute_result"
    }
   ],
   "source": [
    "# SleepDay é do tipo objeto, é necessário alterar para datetime\n",
    "dados_sono['SleepDay']= pd.to_datetime(dados_sono['SleepDay'])\n",
    "dados_sono.dtypes"
   ]
  },
  {
   "cell_type": "code",
   "execution_count": 9,
   "id": "779ad30b-1bf9-4603-84b4-f57e310e6fe8",
   "metadata": {},
   "outputs": [
    {
     "data": {
      "text/plain": [
       "Id                    0\n",
       "SleepDay              0\n",
       "TotalSleepRecords     0\n",
       "TotalMinutesAsleep    0\n",
       "TotalTimeInBed        0\n",
       "dtype: int64"
      ]
     },
     "execution_count": 9,
     "metadata": {},
     "output_type": "execute_result"
    }
   ],
   "source": [
    "dados_sono.isnull().sum() # NÃO HÁ DADOS FALTANTES"
   ]
  },
  {
   "cell_type": "markdown",
   "id": "74ca48e1-15e3-4913-b797-d9e0ea5c99d9",
   "metadata": {},
   "source": [
    "## LIMPEZA E TRATAMENTO 'hourlyCalories_merged'"
   ]
  },
  {
   "cell_type": "code",
   "execution_count": 10,
   "id": "ba8d9203-7136-4619-a5a0-5bb9ef0fbd9b",
   "metadata": {},
   "outputs": [
    {
     "data": {
      "text/plain": [
       "Id               int64\n",
       "ActivityHour    object\n",
       "Calories         int64\n",
       "dtype: object"
      ]
     },
     "execution_count": 10,
     "metadata": {},
     "output_type": "execute_result"
    }
   ],
   "source": [
    "# carga dos dados na variável\n",
    "dados_calorias_hora = lista_data_frames[5]\n",
    "# verificação dos tipos de dados no dataframe\n",
    "dados_calorias_hora.dtypes"
   ]
  },
  {
   "cell_type": "code",
   "execution_count": 11,
   "id": "84a3703d-7080-45b8-9837-026167d4355b",
   "metadata": {},
   "outputs": [
    {
     "name": "stderr",
     "output_type": "stream",
     "text": [
      "C:\\Users\\SGTME\\AppData\\Local\\Temp\\ipykernel_11988\\3454563445.py:2: UserWarning: Could not infer format, so each element will be parsed individually, falling back to `dateutil`. To ensure parsing is consistent and as-expected, please specify a format.\n",
      "  dados_calorias_hora['ActivityHour']= pd.to_datetime(dados_calorias_hora['ActivityHour'])\n"
     ]
    },
    {
     "data": {
      "text/plain": [
       "Id                       int64\n",
       "ActivityHour    datetime64[ns]\n",
       "Calories                 int64\n",
       "dtype: object"
      ]
     },
     "execution_count": 11,
     "metadata": {},
     "output_type": "execute_result"
    }
   ],
   "source": [
    "# ActivityHour é do tipo objeto, é necessário alterar para datetime\n",
    "dados_calorias_hora['ActivityHour']= pd.to_datetime(dados_calorias_hora['ActivityHour'])\n",
    "dados_calorias_hora.dtypes"
   ]
  },
  {
   "cell_type": "code",
   "execution_count": 12,
   "id": "07067aa3-5202-4356-a84b-750a193fcfa7",
   "metadata": {},
   "outputs": [
    {
     "data": {
      "text/plain": [
       "Id              0\n",
       "ActivityHour    0\n",
       "Calories        0\n",
       "dtype: int64"
      ]
     },
     "execution_count": 12,
     "metadata": {},
     "output_type": "execute_result"
    }
   ],
   "source": [
    "dados_calorias_hora.isnull().sum() # NÃO HÁ DADOS FALTANTES"
   ]
  },
  {
   "cell_type": "markdown",
   "id": "e709c2f6-0e3b-47f9-b9e4-084fdb8568dc",
   "metadata": {},
   "source": [
    "## LIMPEZA E TRATAMENTO 'hourlySteps_merged'"
   ]
  },
  {
   "cell_type": "code",
   "execution_count": 13,
   "id": "9ec47505-90f2-4778-bbeb-cdd81f3dbb25",
   "metadata": {},
   "outputs": [
    {
     "data": {
      "text/plain": [
       "Id               int64\n",
       "ActivityHour    object\n",
       "StepTotal        int64\n",
       "dtype: object"
      ]
     },
     "execution_count": 13,
     "metadata": {},
     "output_type": "execute_result"
    }
   ],
   "source": [
    "# carga dos dados na variável\n",
    "dados_passos_hora = lista_data_frames[7]\n",
    "# verificação dos tipos de dados no dataframe\n",
    "dados_passos_hora.dtypes"
   ]
  },
  {
   "cell_type": "code",
   "execution_count": 14,
   "id": "00b3bdb9-526f-4f9b-b59f-3de51e55441e",
   "metadata": {},
   "outputs": [
    {
     "name": "stderr",
     "output_type": "stream",
     "text": [
      "C:\\Users\\SGTME\\AppData\\Local\\Temp\\ipykernel_11988\\75133716.py:2: UserWarning: Could not infer format, so each element will be parsed individually, falling back to `dateutil`. To ensure parsing is consistent and as-expected, please specify a format.\n",
      "  dados_passos_hora['ActivityHour']= pd.to_datetime(dados_passos_hora['ActivityHour'])\n"
     ]
    },
    {
     "data": {
      "text/plain": [
       "Id                       int64\n",
       "ActivityHour    datetime64[ns]\n",
       "StepTotal                int64\n",
       "dtype: object"
      ]
     },
     "execution_count": 14,
     "metadata": {},
     "output_type": "execute_result"
    }
   ],
   "source": [
    "# ActivityDay é do tipo objeto, é necessário alterar para datetime\n",
    "dados_passos_hora['ActivityHour']= pd.to_datetime(dados_passos_hora['ActivityHour'])\n",
    "dados_passos_hora.dtypes"
   ]
  },
  {
   "cell_type": "code",
   "execution_count": 15,
   "id": "14a1e848-f3f5-4db2-b7b7-89257a10f1a1",
   "metadata": {},
   "outputs": [
    {
     "data": {
      "text/plain": [
       "Id              0\n",
       "ActivityHour    0\n",
       "StepTotal       0\n",
       "dtype: int64"
      ]
     },
     "execution_count": 15,
     "metadata": {},
     "output_type": "execute_result"
    }
   ],
   "source": [
    "dados_passos_hora.isnull().sum() # NÃO HÁ DADOS FALTANTES"
   ]
  },
  {
   "cell_type": "markdown",
   "id": "9278cfb0-98e3-4623-a960-98613847b8dc",
   "metadata": {},
   "source": [
    "# PROCESSAMENTO DOS DADOS\n"
   ]
  },
  {
   "cell_type": "code",
   "execution_count": 16,
   "id": "8bfeed89-40fc-4be2-b401-712e09028f1c",
   "metadata": {},
   "outputs": [],
   "source": [
    "# PROCESSAR DATAS PARA EXTRAIR MESES E DIAS DA SEMANA\n",
    "# AGREGAR OS DADOS\n",
    "# FAZER O JOIN DAS TABELAS"
   ]
  },
  {
   "cell_type": "markdown",
   "id": "b51b2949-a675-4f94-af13-1517de120da4",
   "metadata": {},
   "source": [
    "## dailyActivity_merged"
   ]
  },
  {
   "cell_type": "markdown",
   "id": "ba87de0c-a0d0-49c3-b299-3fe57363a490",
   "metadata": {},
   "source": [
    "#### PROCESSANDO AS DATAS"
   ]
  },
  {
   "cell_type": "code",
   "execution_count": 17,
   "id": "4456efb5-82a6-4df0-8c70-caddc6f0e22b",
   "metadata": {},
   "outputs": [
    {
     "data": {
      "text/html": [
       "<div>\n",
       "<style scoped>\n",
       "    .dataframe tbody tr th:only-of-type {\n",
       "        vertical-align: middle;\n",
       "    }\n",
       "\n",
       "    .dataframe tbody tr th {\n",
       "        vertical-align: top;\n",
       "    }\n",
       "\n",
       "    .dataframe thead th {\n",
       "        text-align: right;\n",
       "    }\n",
       "</style>\n",
       "<table border=\"1\" class=\"dataframe\">\n",
       "  <thead>\n",
       "    <tr style=\"text-align: right;\">\n",
       "      <th></th>\n",
       "      <th>Id</th>\n",
       "      <th>ActivityDate</th>\n",
       "      <th>TotalSteps</th>\n",
       "      <th>TotalDistance</th>\n",
       "      <th>TrackerDistance</th>\n",
       "      <th>LoggedActivitiesDistance</th>\n",
       "      <th>VeryActiveDistance</th>\n",
       "      <th>ModeratelyActiveDistance</th>\n",
       "      <th>LightActiveDistance</th>\n",
       "      <th>SedentaryActiveDistance</th>\n",
       "      <th>VeryActiveMinutes</th>\n",
       "      <th>FairlyActiveMinutes</th>\n",
       "      <th>LightlyActiveMinutes</th>\n",
       "      <th>SedentaryMinutes</th>\n",
       "      <th>Calories</th>\n",
       "      <th>mes_atividade</th>\n",
       "      <th>dia_da_semana</th>\n",
       "    </tr>\n",
       "  </thead>\n",
       "  <tbody>\n",
       "    <tr>\n",
       "      <th>0</th>\n",
       "      <td>1503960366</td>\n",
       "      <td>2016-04-12</td>\n",
       "      <td>13162</td>\n",
       "      <td>8.50</td>\n",
       "      <td>8.50</td>\n",
       "      <td>0.0</td>\n",
       "      <td>1.88</td>\n",
       "      <td>0.55</td>\n",
       "      <td>6.06</td>\n",
       "      <td>0.0</td>\n",
       "      <td>25</td>\n",
       "      <td>13</td>\n",
       "      <td>328</td>\n",
       "      <td>728</td>\n",
       "      <td>1985</td>\n",
       "      <td>4</td>\n",
       "      <td>terça-feira</td>\n",
       "    </tr>\n",
       "    <tr>\n",
       "      <th>1</th>\n",
       "      <td>1503960366</td>\n",
       "      <td>2016-04-13</td>\n",
       "      <td>10735</td>\n",
       "      <td>6.97</td>\n",
       "      <td>6.97</td>\n",
       "      <td>0.0</td>\n",
       "      <td>1.57</td>\n",
       "      <td>0.69</td>\n",
       "      <td>4.71</td>\n",
       "      <td>0.0</td>\n",
       "      <td>21</td>\n",
       "      <td>19</td>\n",
       "      <td>217</td>\n",
       "      <td>776</td>\n",
       "      <td>1797</td>\n",
       "      <td>4</td>\n",
       "      <td>quarta-feira</td>\n",
       "    </tr>\n",
       "  </tbody>\n",
       "</table>\n",
       "</div>"
      ],
      "text/plain": [
       "           Id ActivityDate  TotalSteps  TotalDistance  TrackerDistance  \\\n",
       "0  1503960366   2016-04-12       13162           8.50             8.50   \n",
       "1  1503960366   2016-04-13       10735           6.97             6.97   \n",
       "\n",
       "   LoggedActivitiesDistance  VeryActiveDistance  ModeratelyActiveDistance  \\\n",
       "0                       0.0                1.88                      0.55   \n",
       "1                       0.0                1.57                      0.69   \n",
       "\n",
       "   LightActiveDistance  SedentaryActiveDistance  VeryActiveMinutes  \\\n",
       "0                 6.06                      0.0                 25   \n",
       "1                 4.71                      0.0                 21   \n",
       "\n",
       "   FairlyActiveMinutes  LightlyActiveMinutes  SedentaryMinutes  Calories  \\\n",
       "0                   13                   328               728      1985   \n",
       "1                   19                   217               776      1797   \n",
       "\n",
       "   mes_atividade dia_da_semana  \n",
       "0              4   terça-feira  \n",
       "1              4  quarta-feira  "
      ]
     },
     "execution_count": 17,
     "metadata": {},
     "output_type": "execute_result"
    }
   ],
   "source": [
    "# INSERINDO O MÊS DA ATIVIDADE\n",
    "dados_atividade_diaria['mes_atividade'] = dados_atividade_diaria['ActivityDate'].dt.month\n",
    "\n",
    "# INSERINDO O DIA DA SEMANA\n",
    "# A FUNÇÃO WEEKDAY RETORNA O DIA DA SEMANA COMO UM INTEIRO ENTRE 1-6, DESTA FORMA FOI NECESSÁRIO MAPEAR\n",
    "# PARA CONVERTER O INTEIRO NA STRING CORRESPONDENTE.\n",
    "\n",
    "dados_atividade_diaria['dia_da_semana'] = dados_atividade_diaria['ActivityDate'].dt.weekday.map({\n",
    "    0: \"segunda-feira\",\n",
    "    1: \"terça-feira\",\n",
    "    2: \"quarta-feira\",\n",
    "    3: \"quinta-feira\",\n",
    "    4: \"sexta-feira\",\n",
    "    5: \"sábado\",\n",
    "    6: \"domingo\"\n",
    "})\n",
    "dados_atividade_diaria.head(2)"
   ]
  },
  {
   "cell_type": "code",
   "execution_count": 18,
   "id": "76e3b8fe-0b6b-4554-8ed5-5922dbee3d74",
   "metadata": {},
   "outputs": [],
   "source": [
    "# ENRIQUECENDO O DATAFRAME COM A COLUNA TEMPO DE EXERCÍCIO, ESTA SERÁ FORMADA PELA ADIÇÃO DAS COLUNAS [VeryActiveMinutes] E [FairlyActiveMinutes] QUE PARECEM SER OS INTERVALOS DE REAL\n",
    "# ATIVIDADE FÍSICA\n",
    "dados_atividade_diaria['minutos_atividade_fisica'] = dados_atividade_diaria['VeryActiveMinutes'] + dados_atividade_diaria['FairlyActiveMinutes']\n"
   ]
  },
  {
   "cell_type": "markdown",
   "id": "270fe398-b32a-4954-9dda-f4dcdfd2d7df",
   "metadata": {},
   "source": [
    "#### CRIANDO AS TABELAS AGREGADAS"
   ]
  },
  {
   "cell_type": "code",
   "execution_count": 37,
   "id": "74c406a1-5975-4f18-8108-3e0edc072ecf",
   "metadata": {},
   "outputs": [
    {
     "data": {
      "text/html": [
       "<div>\n",
       "<style scoped>\n",
       "    .dataframe tbody tr th:only-of-type {\n",
       "        vertical-align: middle;\n",
       "    }\n",
       "\n",
       "    .dataframe tbody tr th {\n",
       "        vertical-align: top;\n",
       "    }\n",
       "\n",
       "    .dataframe thead th {\n",
       "        text-align: right;\n",
       "    }\n",
       "</style>\n",
       "<table border=\"1\" class=\"dataframe\">\n",
       "  <thead>\n",
       "    <tr style=\"text-align: right;\">\n",
       "      <th></th>\n",
       "      <th>TotalSteps</th>\n",
       "      <th>TotalDistance</th>\n",
       "      <th>VeryActiveDistance</th>\n",
       "      <th>ModeratelyActiveDistance</th>\n",
       "      <th>LightActiveDistance</th>\n",
       "      <th>VeryActiveMinutes</th>\n",
       "      <th>FairlyActiveMinutes</th>\n",
       "      <th>LightlyActiveMinutes</th>\n",
       "      <th>SedentaryMinutes</th>\n",
       "      <th>Calories</th>\n",
       "      <th>minutos_atividade_fisica</th>\n",
       "    </tr>\n",
       "    <tr>\n",
       "      <th>Id</th>\n",
       "      <th></th>\n",
       "      <th></th>\n",
       "      <th></th>\n",
       "      <th></th>\n",
       "      <th></th>\n",
       "      <th></th>\n",
       "      <th></th>\n",
       "      <th></th>\n",
       "      <th></th>\n",
       "      <th></th>\n",
       "      <th></th>\n",
       "    </tr>\n",
       "  </thead>\n",
       "  <tbody>\n",
       "    <tr>\n",
       "      <th>1503960366</th>\n",
       "      <td>3052.48</td>\n",
       "      <td>1.98</td>\n",
       "      <td>1.23</td>\n",
       "      <td>0.46</td>\n",
       "      <td>1.32</td>\n",
       "      <td>16.02</td>\n",
       "      <td>10.63</td>\n",
       "      <td>57.01</td>\n",
       "      <td>202.94</td>\n",
       "      <td>352.57</td>\n",
       "      <td>21.53</td>\n",
       "    </tr>\n",
       "    <tr>\n",
       "      <th>1624580081</th>\n",
       "      <td>6177.05</td>\n",
       "      <td>4.80</td>\n",
       "      <td>3.93</td>\n",
       "      <td>0.87</td>\n",
       "      <td>1.43</td>\n",
       "      <td>33.41</td>\n",
       "      <td>13.74</td>\n",
       "      <td>40.94</td>\n",
       "      <td>93.98</td>\n",
       "      <td>256.58</td>\n",
       "      <td>45.74</td>\n",
       "    </tr>\n",
       "  </tbody>\n",
       "</table>\n",
       "</div>"
      ],
      "text/plain": [
       "            TotalSteps  TotalDistance  VeryActiveDistance  \\\n",
       "Id                                                          \n",
       "1503960366     3052.48           1.98                1.23   \n",
       "1624580081     6177.05           4.80                3.93   \n",
       "\n",
       "            ModeratelyActiveDistance  LightActiveDistance  VeryActiveMinutes  \\\n",
       "Id                                                                             \n",
       "1503960366                      0.46                 1.32              16.02   \n",
       "1624580081                      0.87                 1.43              33.41   \n",
       "\n",
       "            FairlyActiveMinutes  LightlyActiveMinutes  SedentaryMinutes  \\\n",
       "Id                                                                        \n",
       "1503960366                10.63                 57.01            202.94   \n",
       "1624580081                13.74                 40.94             93.98   \n",
       "\n",
       "            Calories  minutos_atividade_fisica  \n",
       "Id                                              \n",
       "1503960366    352.57                     21.53  \n",
       "1624580081    256.58                     45.74  "
      ]
     },
     "execution_count": 37,
     "metadata": {},
     "output_type": "execute_result"
    }
   ],
   "source": [
    "# CRIANDO A TABELA DOS DADOS MÉDIOS AGREGADOS POR ID\n",
    "atividade_agregada_id = dados_atividade_diaria.groupby('Id')\n",
    "\n",
    "atividade_agregada_id_medias= atividade_agregada_id[['TotalSteps','TotalDistance','VeryActiveDistance','ModeratelyActiveDistance','LightActiveDistance',\n",
    "                      'VeryActiveMinutes','FairlyActiveMinutes','LightlyActiveMinutes','SedentaryMinutes','Calories','minutos_atividade_fisica']].mean().round(2)\n",
    "\n",
    "# EXISTE UMA RECOMENDAÇÃO GENÉRICA DA OMS ( ORGANIZAÇÃO MUNDIAL DE SAÚDE) QUE RECOMENDA ATIVIDADE FÍSICA EQUIVALENTE A 7.500 PASSOS POR DIA\n",
    "# COMO NÃO EXISTEM NOS DATASETS FORNECIDOS INFORMAÇÕES RELATIVAS A PESO E GÊNERO DOS USUÁRIOS, ESTA SERÁ A MEDIDA UTILIZADA PARA BALIZAR SE\n",
    "# O USUÁRIO TEM UMA ATIVIDADE FÍSICA SATISFATÓRIA\n",
    "# AQUI CRIAMOS A COLUNA CORRESPONDENTE:\n",
    "\n",
    "atividade_agregada_id_medias['minimo_oms'] = atividade_agregada_id_medias['TotalSteps'].apply(lambda x: \"Menor que 7500\" if x < 7500 else \"Maior ou igual a 7500\")\n",
    "atividade_agregada_id_medias.head(2)\n",
    "\n",
    "# CRIANDO A TABELA DOS DADOS DE DESVIO PADRÃO AGREGADOS POR ID:\n",
    "\n",
    "atividade_agregada_id_desvio= atividade_agregada_id[['TotalSteps','TotalDistance','VeryActiveDistance','ModeratelyActiveDistance','LightActiveDistance',\n",
    "                      'VeryActiveMinutes','FairlyActiveMinutes','LightlyActiveMinutes','SedentaryMinutes','Calories','minutos_atividade_fisica']].std().round(2)\n",
    "atividade_agregada_id_desvio.head(2)"
   ]
  },
  {
   "cell_type": "markdown",
   "id": "29244e53-7efc-42fc-8304-600d0e4fc64b",
   "metadata": {},
   "source": [
    "## sleepDay_merged"
   ]
  },
  {
   "cell_type": "markdown",
   "id": "056318ce-2c56-4e3b-b3cc-d89bab96ce85",
   "metadata": {},
   "source": [
    "#### PROCESSANDO AS DATAS"
   ]
  },
  {
   "cell_type": "code",
   "execution_count": 20,
   "id": "54d8565d-143f-4717-98a1-4ab1a30ac23d",
   "metadata": {},
   "outputs": [
    {
     "data": {
      "text/html": [
       "<div>\n",
       "<style scoped>\n",
       "    .dataframe tbody tr th:only-of-type {\n",
       "        vertical-align: middle;\n",
       "    }\n",
       "\n",
       "    .dataframe tbody tr th {\n",
       "        vertical-align: top;\n",
       "    }\n",
       "\n",
       "    .dataframe thead th {\n",
       "        text-align: right;\n",
       "    }\n",
       "</style>\n",
       "<table border=\"1\" class=\"dataframe\">\n",
       "  <thead>\n",
       "    <tr style=\"text-align: right;\">\n",
       "      <th></th>\n",
       "      <th>Id</th>\n",
       "      <th>SleepDay</th>\n",
       "      <th>TotalSleepRecords</th>\n",
       "      <th>TotalMinutesAsleep</th>\n",
       "      <th>TotalTimeInBed</th>\n",
       "      <th>mes</th>\n",
       "      <th>dia_da_semana</th>\n",
       "      <th>total_sono_horas</th>\n",
       "    </tr>\n",
       "  </thead>\n",
       "  <tbody>\n",
       "    <tr>\n",
       "      <th>0</th>\n",
       "      <td>1503960366</td>\n",
       "      <td>2016-04-12</td>\n",
       "      <td>1</td>\n",
       "      <td>327</td>\n",
       "      <td>346</td>\n",
       "      <td>4</td>\n",
       "      <td>terça-feira</td>\n",
       "      <td>5.45</td>\n",
       "    </tr>\n",
       "    <tr>\n",
       "      <th>1</th>\n",
       "      <td>1503960366</td>\n",
       "      <td>2016-04-13</td>\n",
       "      <td>2</td>\n",
       "      <td>384</td>\n",
       "      <td>407</td>\n",
       "      <td>4</td>\n",
       "      <td>quarta-feira</td>\n",
       "      <td>6.40</td>\n",
       "    </tr>\n",
       "  </tbody>\n",
       "</table>\n",
       "</div>"
      ],
      "text/plain": [
       "           Id   SleepDay  TotalSleepRecords  TotalMinutesAsleep  \\\n",
       "0  1503960366 2016-04-12                  1                 327   \n",
       "1  1503960366 2016-04-13                  2                 384   \n",
       "\n",
       "   TotalTimeInBed  mes dia_da_semana  total_sono_horas  \n",
       "0             346    4   terça-feira              5.45  \n",
       "1             407    4  quarta-feira              6.40  "
      ]
     },
     "execution_count": 20,
     "metadata": {},
     "output_type": "execute_result"
    }
   ],
   "source": [
    "# INSERINDO O MÊS DA ATIVIDADE\n",
    "dados_sono['mes'] = dados_sono['SleepDay'].dt.month\n",
    "\n",
    "# INSERINDO O DIA DA SEMANA\n",
    "# A FUNÇÃO WEEKDAY RETORNA O DIA DA SEMANA COMO UM INTEIRO ENTRE 1-6, DESTA FORMA FOI NECESSÁRIO MAPEAR\n",
    "# PARA CONVERTER O INTEIRO NA STRING CORRESPONDENTE.\n",
    "\n",
    "dados_sono['dia_da_semana'] = dados_sono['SleepDay'].dt.weekday.map({\n",
    "    0: \"segunda-feira\",\n",
    "    1: \"terça-feira\",\n",
    "    2: \"quarta-feira\",\n",
    "    3: \"quinta-feira\",\n",
    "    4: \"sexta-feira\",\n",
    "    5: \"sábado\",\n",
    "    6: \"domingo\"\n",
    "})\n",
    "\n",
    "# CRIANDO A COLUNA [total_sono_horas]\n",
    "\n",
    "dados_sono['total_sono_horas'] = (dados_sono['TotalMinutesAsleep']/60).round(2)\n",
    "dados_sono.head(2)"
   ]
  },
  {
   "cell_type": "markdown",
   "id": "3ef48200-f9da-452a-b821-e8ec5a2a6a3c",
   "metadata": {},
   "source": [
    "#### CRIANDO AS TABELAS AGREGADAS"
   ]
  },
  {
   "cell_type": "code",
   "execution_count": 21,
   "id": "0ba26345-770d-4332-8321-aca28765994c",
   "metadata": {},
   "outputs": [],
   "source": [
    "# CRIANDO A TABELA DOS DADOS MÉDIOS AGREGADOS POR [Id]\n",
    "dados_sono_agregado_Id = dados_sono.groupby('Id')\n",
    "\n",
    "dados_sono_agregado_Id_media = dados_sono_agregado_Id[['total_sono_horas','TotalTimeInBed']].mean()\n",
    "dados_sono_agregado_Id_media\n",
    "\n",
    "# EXISTE UMA RECOMENDAÇÃO GENÉRICA DA OMS ( ORGANIZAÇÃO MUNDIAL DE SAÚDE) QUE RECOMENDA NO MÍNIMO 7 HORAS DE SONO\n",
    "# INSERINDO COLUNA QUE INFORMA SE O USUÁRIO DORMIU O MÍNIMO NECESSÁRIO\n",
    "\n",
    "dados_sono_agregado_Id_media['minimo_oms'] = dados_sono_agregado_Id_media['total_sono_horas'].apply(lambda x: \"Menos de 7h\" if x < 7 else \"7h ou mais\")\n",
    "#dados_sono_agregado_Id_media"
   ]
  },
  {
   "cell_type": "markdown",
   "id": "fa13e40e-1f5c-4347-b960-d62b3087940d",
   "metadata": {},
   "source": [
    "## hourlyCalories_merged"
   ]
  },
  {
   "cell_type": "markdown",
   "id": "52ab2941-1a07-4a8d-998f-72e53d349e77",
   "metadata": {},
   "source": [
    "#### PROCESSANDO AS DATAS"
   ]
  },
  {
   "cell_type": "code",
   "execution_count": 22,
   "id": "7e00355b-fd35-4d5d-a831-fd41256cd69a",
   "metadata": {},
   "outputs": [],
   "source": [
    "# INSERINDO A HORA DA ATIVIDADE\n",
    "dados_calorias_hora['hora'] = dados_calorias_hora['ActivityHour'].dt.hour"
   ]
  },
  {
   "cell_type": "markdown",
   "id": "86c394c6-b420-4196-ae36-6b58b89efeca",
   "metadata": {},
   "source": [
    "#### CRIANDO AS TABELAS AGREGADAS"
   ]
  },
  {
   "cell_type": "code",
   "execution_count": 23,
   "id": "83897f7f-dc43-4c6c-a0a5-5cf3f6baf686",
   "metadata": {},
   "outputs": [],
   "source": [
    "# AGREGANDO OS DADOS PELA HORA DO DIA\n",
    "dados_calorias_hora_agregado_hora = dados_calorias_hora.groupby('hora')"
   ]
  },
  {
   "cell_type": "markdown",
   "id": "c67fc615-e417-4bce-af75-7fdb96352ced",
   "metadata": {},
   "source": [
    "## hourlySteps_merged"
   ]
  },
  {
   "cell_type": "markdown",
   "id": "f08e5420-35b2-45e9-a226-63767180609c",
   "metadata": {},
   "source": [
    "#### PROCESSANDO AS DATAS"
   ]
  },
  {
   "cell_type": "code",
   "execution_count": 24,
   "id": "fcf39a4e-34db-4092-a355-34549c3a40ff",
   "metadata": {},
   "outputs": [],
   "source": [
    "# INSERINDO A HORA DA ATIVIDADE\n",
    "dados_passos_hora['hora'] = dados_passos_hora['ActivityHour'].dt.hour"
   ]
  },
  {
   "cell_type": "markdown",
   "id": "5245c4dc-df7f-4254-84d9-08e344390490",
   "metadata": {},
   "source": [
    "#### CRIANDO AS TABELAS AGREGADAS"
   ]
  },
  {
   "cell_type": "code",
   "execution_count": 25,
   "id": "83882cf5-30b5-404b-b26c-7917d7dce1f6",
   "metadata": {},
   "outputs": [],
   "source": [
    "# AGREGANDO OS DADOS PELA HORA DO DIA\n",
    "dados_passos_hora_agregado = dados_passos_hora.groupby('hora')"
   ]
  },
  {
   "cell_type": "code",
   "execution_count": 36,
   "id": "888d7094-8223-4135-9966-befe90cea077",
   "metadata": {},
   "outputs": [
    {
     "data": {
      "text/html": [
       "<div>\n",
       "<style scoped>\n",
       "    .dataframe tbody tr th:only-of-type {\n",
       "        vertical-align: middle;\n",
       "    }\n",
       "\n",
       "    .dataframe tbody tr th {\n",
       "        vertical-align: top;\n",
       "    }\n",
       "\n",
       "    .dataframe thead th {\n",
       "        text-align: right;\n",
       "    }\n",
       "</style>\n",
       "<table border=\"1\" class=\"dataframe\">\n",
       "  <thead>\n",
       "    <tr style=\"text-align: right;\">\n",
       "      <th></th>\n",
       "      <th>Id</th>\n",
       "      <th>ActivityHour</th>\n",
       "      <th>StepTotal</th>\n",
       "      <th>hora</th>\n",
       "    </tr>\n",
       "  </thead>\n",
       "  <tbody>\n",
       "    <tr>\n",
       "      <th>0</th>\n",
       "      <td>1503960366</td>\n",
       "      <td>2016-04-12 00:00:00</td>\n",
       "      <td>373</td>\n",
       "      <td>0</td>\n",
       "    </tr>\n",
       "    <tr>\n",
       "      <th>1</th>\n",
       "      <td>1503960366</td>\n",
       "      <td>2016-04-12 01:00:00</td>\n",
       "      <td>160</td>\n",
       "      <td>1</td>\n",
       "    </tr>\n",
       "  </tbody>\n",
       "</table>\n",
       "</div>"
      ],
      "text/plain": [
       "           Id        ActivityHour  StepTotal  hora\n",
       "0  1503960366 2016-04-12 00:00:00        373     0\n",
       "1  1503960366 2016-04-12 01:00:00        160     1"
      ]
     },
     "execution_count": 36,
     "metadata": {},
     "output_type": "execute_result"
    }
   ],
   "source": [
    "dados_passos_hora.head(2)"
   ]
  },
  {
   "cell_type": "code",
   "execution_count": 27,
   "id": "51c3b48b-a442-4703-bd47-f8d75bc56cee",
   "metadata": {},
   "outputs": [],
   "source": [
    "#for i in range (0, len(dados_atividade_diaria.columns)):\n",
    "    #print(  i,' : ', dados_atividade_diaria.columns[i])"
   ]
  },
  {
   "cell_type": "code",
   "execution_count": 38,
   "id": "846be6b4-aea9-44cc-8214-4741e6d0ebfe",
   "metadata": {},
   "outputs": [
    {
     "data": {
      "text/html": [
       "<div>\n",
       "<style scoped>\n",
       "    .dataframe tbody tr th:only-of-type {\n",
       "        vertical-align: middle;\n",
       "    }\n",
       "\n",
       "    .dataframe tbody tr th {\n",
       "        vertical-align: top;\n",
       "    }\n",
       "\n",
       "    .dataframe thead th {\n",
       "        text-align: right;\n",
       "    }\n",
       "</style>\n",
       "<table border=\"1\" class=\"dataframe\">\n",
       "  <thead>\n",
       "    <tr style=\"text-align: right;\">\n",
       "      <th></th>\n",
       "      <th>Id</th>\n",
       "      <th>ActivityDate</th>\n",
       "      <th>TotalSteps</th>\n",
       "      <th>TotalDistance</th>\n",
       "      <th>TrackerDistance</th>\n",
       "      <th>LoggedActivitiesDistance</th>\n",
       "      <th>VeryActiveDistance</th>\n",
       "      <th>ModeratelyActiveDistance</th>\n",
       "      <th>LightActiveDistance</th>\n",
       "      <th>SedentaryActiveDistance</th>\n",
       "      <th>VeryActiveMinutes</th>\n",
       "      <th>FairlyActiveMinutes</th>\n",
       "      <th>LightlyActiveMinutes</th>\n",
       "      <th>SedentaryMinutes</th>\n",
       "      <th>Calories</th>\n",
       "      <th>mes_atividade</th>\n",
       "      <th>dia_da_semana</th>\n",
       "      <th>minutos_atividade_fisica</th>\n",
       "    </tr>\n",
       "  </thead>\n",
       "  <tbody>\n",
       "    <tr>\n",
       "      <th>0</th>\n",
       "      <td>1503960366</td>\n",
       "      <td>2016-04-12</td>\n",
       "      <td>13162</td>\n",
       "      <td>8.50</td>\n",
       "      <td>8.50</td>\n",
       "      <td>0.0</td>\n",
       "      <td>1.88</td>\n",
       "      <td>0.55</td>\n",
       "      <td>6.06</td>\n",
       "      <td>0.0</td>\n",
       "      <td>25</td>\n",
       "      <td>13</td>\n",
       "      <td>328</td>\n",
       "      <td>728</td>\n",
       "      <td>1985</td>\n",
       "      <td>4</td>\n",
       "      <td>terça-feira</td>\n",
       "      <td>38</td>\n",
       "    </tr>\n",
       "    <tr>\n",
       "      <th>1</th>\n",
       "      <td>1503960366</td>\n",
       "      <td>2016-04-13</td>\n",
       "      <td>10735</td>\n",
       "      <td>6.97</td>\n",
       "      <td>6.97</td>\n",
       "      <td>0.0</td>\n",
       "      <td>1.57</td>\n",
       "      <td>0.69</td>\n",
       "      <td>4.71</td>\n",
       "      <td>0.0</td>\n",
       "      <td>21</td>\n",
       "      <td>19</td>\n",
       "      <td>217</td>\n",
       "      <td>776</td>\n",
       "      <td>1797</td>\n",
       "      <td>4</td>\n",
       "      <td>quarta-feira</td>\n",
       "      <td>40</td>\n",
       "    </tr>\n",
       "  </tbody>\n",
       "</table>\n",
       "</div>"
      ],
      "text/plain": [
       "           Id ActivityDate  TotalSteps  TotalDistance  TrackerDistance  \\\n",
       "0  1503960366   2016-04-12       13162           8.50             8.50   \n",
       "1  1503960366   2016-04-13       10735           6.97             6.97   \n",
       "\n",
       "   LoggedActivitiesDistance  VeryActiveDistance  ModeratelyActiveDistance  \\\n",
       "0                       0.0                1.88                      0.55   \n",
       "1                       0.0                1.57                      0.69   \n",
       "\n",
       "   LightActiveDistance  SedentaryActiveDistance  VeryActiveMinutes  \\\n",
       "0                 6.06                      0.0                 25   \n",
       "1                 4.71                      0.0                 21   \n",
       "\n",
       "   FairlyActiveMinutes  LightlyActiveMinutes  SedentaryMinutes  Calories  \\\n",
       "0                   13                   328               728      1985   \n",
       "1                   19                   217               776      1797   \n",
       "\n",
       "   mes_atividade dia_da_semana  minutos_atividade_fisica  \n",
       "0              4   terça-feira                        38  \n",
       "1              4  quarta-feira                        40  "
      ]
     },
     "execution_count": 38,
     "metadata": {},
     "output_type": "execute_result"
    }
   ],
   "source": [
    "dados_atividade_diaria.head(2)"
   ]
  },
  {
   "cell_type": "markdown",
   "id": "399bf3b2-bc5d-496c-ab64-36233d4c7401",
   "metadata": {},
   "source": [
    "# ANÁLISE E COMPARTILHAMENTO"
   ]
  },
  {
   "cell_type": "markdown",
   "id": "68c2db85-89ec-4c5f-b2d2-a28a41d9c51a",
   "metadata": {},
   "source": [
    "EXISTE UMA RECOMENDAÇÃO GENÉRICA DA OMS (ORGANIZAÇÃO MUNDIAL DE SAÚDE) QUE RECOMENDA ATIVIDADE FÍSICA EQUIVALENTE A 7.500 PASSOS POR DIA, COMO TAMBÉM RECOMENDA A PRÁTICA DE 30 MINUTOS DIÁRIOS DE ATIVIDADE FÍSICA.\n",
    "COMO NÃO EXISTEM NOS DATASETS FORNECIDOS INFORMAÇÕES RELATIVAS A PESO E GÊNERO DOS USUÁRIOS, ESTAS SERÃO AS MEDIDAS UTILIZADA PARA BALIZAR SE O USUÁRIO TEM UMA ATIVIDADE FÍSICA SATISFATÓRIA.\n",
    "\n",
    "A análise dos dados contidos na tabela [dailyActivity_merged] permite inferir os seguintes fatos:\n",
    "\n",
    "* Praticamente metade dos usuários não possui uma média de minutos de atividade física que atenda ao mínimo recomendado pela OMS.\n",
    "  \n",
    "* A mesma proporção é identificada com relação ao número de passos recomendados, ou seja, mais da metade dos usuários não tem uma média que satisfaça o mínimo.\n",
    "  \n",
    "* Também é possível identificar que atividade física dos usuários é bastante irregular, para tal conclusão foi criado o histograma do desvio padrão tanto dos minutos de atividade\n",
    "física de cada usuário como do número de passos diários. Onde percebe-se uma quantidade expressiva de usuários variando suas atividades entre 35-50 minutos e o número de passos entre 3000 e 4000.\n",
    "\n",
    "* Das informações alcançadas, podemos concluir que a maioria dos usuários (considerando que os dados fossem suficientes e não enviesados), ainda que adquiram um relógio para rastreamento de saúde, não praticam atividade física de satisfatória e regular."
   ]
  },
  {
   "cell_type": "code",
   "execution_count": 29,
   "id": "12c4347d-b84c-4b19-a81d-46b10b83b692",
   "metadata": {},
   "outputs": [
    {
     "data": {
      "text/plain": [
       "<Axes: xlabel='Média de minutos de atividade física por dia', ylabel=' Frequência'>"
      ]
     },
     "execution_count": 29,
     "metadata": {},
     "output_type": "execute_result"
    },
    {
     "data": {
      "image/png": "[encoded data removed]",
      "text/plain": [
       "<Figure size 640x480 with 1 Axes>"
      ]
     },
     "metadata": {},
     "output_type": "display_data"
    }
   ],
   "source": [
    "# CRIANDO HISTOGRAMA DOS MINUTOS MÉDIOS DE ATIVIDADE FÍSICA POR DIA DOS USUÁRIOS.\n",
    "atividade_agregada_id_medias['minutos_atividade_fisica'].plot.hist(xlabel= 'Média de minutos de atividade física por dia', ylabel=' Frequência')\n"
   ]
  },
  {
   "cell_type": "code",
   "execution_count": 30,
   "id": "d1d7a524-a887-469d-9d98-e31ad8a8e58a",
   "metadata": {},
   "outputs": [
    {
     "data": {
      "text/plain": [
       "<Axes: title={'center': 'MÍNIMO OMS'}>"
      ]
     },
     "execution_count": 30,
     "metadata": {},
     "output_type": "execute_result"
    },
    {
     "data": {
      "image/png": "[encoded data removed]",
      "text/plain": [
       "<Figure size 640x480 with 1 Axes>"
      ]
     },
     "metadata": {},
     "output_type": "display_data"
    }
   ],
   "source": [
    "# CRIANDO GRÁFICO DE PIZZA PARA VISUALIZAR O ATENDIMENTO DOS USUÁRIOS AO MÍNIMO DE PASSOS RECOMENDADO PELA OMS\n",
    "atividade_agregada_id_medias.groupby('minimo_oms').count()['TotalSteps'].plot.pie(ylabel= '', title = 'MÍNIMO OMS')"
   ]
  },
  {
   "cell_type": "code",
   "execution_count": 31,
   "id": "ffcc2072-aac3-4ef0-8a2f-36d888b236d7",
   "metadata": {},
   "outputs": [
    {
     "data": {
      "text/plain": [
       "<Axes: xlabel='Desvio padrão de minutos de atividade física por dia por usuário', ylabel=' Frequência'>"
      ]
     },
     "execution_count": 31,
     "metadata": {},
     "output_type": "execute_result"
    },
    {
     "data": {
      "image/png": "[encoded data removed]",
      "text/plain": [
       "<Figure size 640x480 with 1 Axes>"
      ]
     },
     "metadata": {},
     "output_type": "display_data"
    }
   ],
   "source": [
    "# CRIANDO HISTOGRAMA DO DESVIO PADRÃO DE MINUTOS DE ATIVIDADE FÍSICA POR DIA DOS USUÁRIOS.\n",
    "atividade_agregada_id_desvio['minutos_atividade_fisica'].plot.hist(xlabel= 'Desvio padrão de minutos de atividade física por dia por usuário', ylabel=' Frequência')\n"
   ]
  },
  {
   "cell_type": "code",
   "execution_count": 32,
   "id": "5f1bc4d7-f939-4a61-90fa-5e89643e5687",
   "metadata": {},
   "outputs": [
    {
     "data": {
      "text/plain": [
       "<Axes: xlabel='Desvio padrão de passos por dia por usuário', ylabel=' Frequência'>"
      ]
     },
     "execution_count": 32,
     "metadata": {},
     "output_type": "execute_result"
    },
    {
     "data": {
      "image/png": "[encoded data removed]",
      "text/plain": [
       "<Figure size 640x480 with 1 Axes>"
      ]
     },
     "metadata": {},
     "output_type": "display_data"
    }
   ],
   "source": [
    "# CRIANDO HISTOGRAMA DO DESVIO PADRÃO DE MINUTOS DE ATIVIDADE FÍSICA POR DIA DOS USUÁRIOS.\n",
    "atividade_agregada_id_desvio['TotalSteps'].plot.hist(xlabel= 'Desvio padrão de passos por dia por usuário', ylabel=' Frequência')"
   ]
  },
  {
   "cell_type": "markdown",
   "id": "0543fde8-602e-4b21-8f5d-43e6dd4c9458",
   "metadata": {},
   "source": [
    "EXISTE UMA RECOMENDAÇÃO GENÉRICA DA OMS ( ORGANIZAÇÃO MUNDIAL DE SAÚDE) QUE RECOMENDA NO MÍNIMO 7 HORAS DE SONO.\n",
    "\n",
    "A análise dos dados contidos na tabela [sleepDay_merged] permite inferir que metade dos usuários não tem uma média de sono diário que atenda aos padrão mínimo recomendado pela OMS."
   ]
  },
  {
   "cell_type": "code",
   "execution_count": 33,
   "id": "59ccc8e1-a3cf-4fe4-93eb-f9a49c04dbb3",
   "metadata": {},
   "outputs": [
    {
     "data": {
      "text/plain": [
       "<Axes: title={'center': 'MÍNIMO OMS'}>"
      ]
     },
     "execution_count": 33,
     "metadata": {},
     "output_type": "execute_result"
    },
    {
     "data": {
      "image/png": "[encoded data removed]",
      "text/plain": [
       "<Figure size 640x480 with 1 Axes>"
      ]
     },
     "metadata": {},
     "output_type": "display_data"
    }
   ],
   "source": [
    "# CRIANDO GRÁFICO DE PIZZA SOBRE A QUALIDADE DE SONO DOS USUÁRIOS\n",
    "dados_sono_agregado_Id_media.groupby('minimo_oms').count()['TotalTimeInBed'].plot.pie(ylabel= '', title = 'MÍNIMO OMS')"
   ]
  },
  {
   "cell_type": "markdown",
   "id": "32da1930-ffd5-4834-848c-c0c04ed4e034",
   "metadata": {},
   "source": [
    "A análise da tabela [hourlyCalories_merged] permite verificar que o horário de maior gasto calórico médio agregado por hora do dia situa-se entre 9h-19h, praticamente coincidindo com o horário comercial e, como no conjunto de dados que relaciona as atividades intensas e muito intensas a data não traz informações de hora, não é possível identificar se o gasto é devido realmente a atividade física ou às atividades de trabalho."
   ]
  },
  {
   "cell_type": "code",
   "execution_count": 34,
   "id": "bd2dd273-431f-4119-a29b-17bbdb257845",
   "metadata": {},
   "outputs": [
    {
     "data": {
      "text/plain": [
       "<Axes: xlabel='hora'>"
      ]
     },
     "execution_count": 34,
     "metadata": {},
     "output_type": "execute_result"
    },
    {
     "data": {
      "image/png": "[encoded data removed]",
      "text/plain": [
       "<Figure size 640x480 with 1 Axes>"
      ]
     },
     "metadata": {},
     "output_type": "display_data"
    }
   ],
   "source": [
    "# CRIANDO O GRÁFICO DE BARRAS QUE VISUALIZA A MÉDIA DE CALORIAS GASTAS POR HORA DO DIA\n",
    "dados_calorias_hora_agregado_hora['Calories'].mean().plot.bar()"
   ]
  },
  {
   "cell_type": "markdown",
   "id": "979b6d01-5a95-476c-87b7-7c0100f3e9ec",
   "metadata": {},
   "source": [
    "A análise da tabela [hourlyStepsMerged] permite verificar que o horário de maior número médio de passos agregado por hora do dia situa-se entre 9h-19h, praticamente coincidindo com o horário comercial e, pelo mesmo motivo da visualização anterior, não é possível identificar se o gasto é devido realmente a atividade física ou às atividades de trabalho."
   ]
  },
  {
   "cell_type": "code",
   "execution_count": 35,
   "id": "3394b35d-8719-4873-8409-913022af845f",
   "metadata": {},
   "outputs": [
    {
     "data": {
      "text/plain": [
       "<Axes: xlabel='hora'>"
      ]
     },
     "execution_count": 35,
     "metadata": {},
     "output_type": "execute_result"
    },
    {
     "data": {
      "image/png": "[encoded data removed]",
      "text/plain": [
       "<Figure size 640x480 with 1 Axes>"
      ]
     },
     "metadata": {},
     "output_type": "display_data"
    }
   ],
   "source": [
    "# CRIANDO O GRÁFICO DE BARRAS QUE VISUALIZA A MÉDIA DE PASSOS POR HORA DO DIA\n",
    "dados_passos_hora_agregado['StepTotal'].mean().plot.bar()"
   ]
  },
  {
   "cell_type": "markdown",
   "id": "b4d08b17-cbf2-49fc-92ad-50b54b314423",
   "metadata": {},
   "source": [
    "# AGIR (RESPOSTAS ÀS PERGUNTAS DE NEGÓCIOS)"
   ]
  },
  {
   "cell_type": "markdown",
   "id": "feed8b78-6b22-4870-8bcc-c0d60efc7040",
   "metadata": {},
   "source": [
    "**Quais são algumas das tendências no uso de dispositivos inteligentes?**\n",
    "\n",
    " Existe uma forte tendência do usuário usar o smartwatch como um relógio comum, dado que mais da metade dos usuários não atendem a critérios mínimos recomendados pela OMS. Outro fator a ser levado em consideração, face a irregularidade da atividade física demonstrada, é a dificulade do usuário em manter a consistência dos seus treinos. Também merece relevo a má qualidade de sono da metade dos usuários, fator que pode ser motividor inclusive da falta de disposição para atividade física.\n",
    "\n",
    "**Como essas tendências podem se aplicar aos clientes da Bellabeat?**\n",
    "\n",
    " A Bellabeat é uma fabricante de produtos de alta tecnologia voltados à saúde para mulheres, desta forma, como o conjunto de dados não possuia informações de gênero do usuário, a impossibilidade de segmentação dos dados quanto ao sexo implica que as conclusões da presente análise devem ser consideradas com esta ressalva.\n",
    "\n",
    "\n",
    "**Como essas tendências podem ajudar a influenciar a estratégia de marketing da Bellabeat?**\n",
    "\n",
    "- Desenvolvimento de produtos de configurações mais simples e maior apelo estético para o usuário que vai usar o smartwatch como simples relógio.\n",
    "- Foco no software do dispositivo para criar alertas e mensagens de motivação para que o usuário  mantenha a consistência dos treinos.\n",
    "- Desenvolvimento de rede social específica da comunidade de usuários Bellabeat para que os usuários avançados, os quais são em número bastante reduzido, não só se motivem a continuar treinando como também sirvam de motivação para o usuário médio de treinos irregulares.\n",
    "\n",
    "\n",
    "\n"
   ]
  },
  {
   "cell_type": "code",
   "execution_count": null,
   "id": "57f8912f-506e-438a-987c-fc014b07b141",
   "metadata": {},
   "outputs": [],
   "source": []
  }
 ],
 "metadata": {
  "kernelspec": {
   "display_name": "Python 3 (ipykernel)",
   "language": "python",
   "name": "python3"
  },
  "language_info": {
   "codemirror_mode": {
    "name": "ipython",
    "version": 3
   },
   "file_extension": ".py",
   "mimetype": "text/x-python",
   "name": "python",
   "nbconvert_exporter": "python",
   "pygments_lexer": "ipython3",
   "version": "3.11.5"
  }
 },
 "nbformat": 4,
 "nbformat_minor": 5
}
