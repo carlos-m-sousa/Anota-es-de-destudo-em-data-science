{
  "nbformat": 4,
  "nbformat_minor": 0,
  "metadata": {
    "colab": {
      "provenance": []
    },
    "kernelspec": {
      "name": "python3",
      "display_name": "Python 3"
    },
    "language_info": {
      "name": "python"
    }
  },
  "cells": [
    {
      "cell_type": "markdown",
      "source": [
        "## Data Science Tools and Ecosystem"
      ],
      "metadata": {
        "id": "ETfHLaFywKu1"
      }
    },
    {
      "cell_type": "markdown",
      "source": [
        "In this notebook, Data Science Tools and Ecosystem are summarized."
      ],
      "metadata": {
        "id": "aXp65qUCxBKN"
      }
    },
    {
      "cell_type": "markdown",
      "source": [
        "Some of the popular languages that Data Scientists use are:\n",
        "\n",
        "1.   Python\n",
        "2.   R\n",
        "3.   SQL\n",
        "\n"
      ],
      "metadata": {
        "id": "KKfw3R-qx9mx"
      }
    },
    {
      "cell_type": "markdown",
      "source": [
        "Some of the commonly used libraries used by Data Scientists include:\n",
        "\n",
        "1.   Pandas\n",
        "2.   Numpy\n",
        "3.   Seaborn\n",
        "\n",
        "\n"
      ],
      "metadata": {
        "id": "lFrwA766ycBQ"
      }
    },
    {
      "cell_type": "markdown",
      "source": [
        "|Data Science Tools|\n",
        "|---|\n",
        "|Jupyter Notebook|\n",
        "|RStudio|\n",
        "|PyCharm|"
      ],
      "metadata": {
        "id": "DAFwkG4SzvOb"
      }
    },
    {
      "cell_type": "markdown",
      "source": [
        "###Below are a few examples of evaluating arithmetic expressions in Python\n",
        "\n",
        "Python's Math Interpreter: Mastering Arithmetic Expressions\n",
        "\n",
        "Python is not only a language for words, but also a powerful calculator! It can effortlessly handle arithmetic expressions, performing calculations and delivering results with accuracy. Let's explore how it works:\n",
        "\n",
        "Fundamental Operators:\n",
        "\n",
        "Addition: + (e.g., result = 10 + 5 will give result the value of 15)\n",
        "Subtraction: - (e.g., difference = 25 - 7 will give difference the value of 18)\n",
        "Multiplication: * (e.g., product = 4 * 9 will give product the value of 36)\n",
        "Division: / (e.g., quotient = 16 / 4 will give quotient the value of 4)\n",
        "Exponentiation: ** (e.g., squared = 5 ** 2 will give squared the value of 25)\n",
        "Modulo: % (e.g., remainder = 21 % 4 will give remainder the value of 1)\n",
        "Ordering Operations:\n",
        "\n",
        "Python follows PEMDAS: Parentheses, Exponents, Multiplication/Division, Addition/Subtraction.\n",
        "Use parentheses to override the default order: (5 + 2) * 3 equals 21, while 5 + 2 * 3 equals 11.\n",
        "Coding Examples:\n",
        "\n",
        "Python\n",
        "# Simple calculations\n",
        "total_cost = 25 + 15  # 40\n",
        "area = 12 * 10  # 120\n",
        "\n",
        "# Complex expressions\n",
        "discounted_price = 50 * 0.85  # 42.5\n",
        "distance_traveled = 60 * 2.5  # 150\n",
        "\n",
        "# Using variables\n",
        "length = 7\n",
        "width = 3\n",
        "area = length * width  # 21\n",
        "Use o código com cuidado. Saiba mais\n",
        "Interactive Experimentation:\n",
        "\n",
        "Python's interactive prompt (the >>> you see when opening a Python terminal) is a great place to play with expressions and see results instantly. Try typing expressions and observing the outputs!\n",
        "\n",
        "Unlocking Endless Possibilities:\n",
        "\n",
        "Arithmetic expressions are the foundation for countless Python applications, including:\n",
        "\n",
        "Financial calculations\n",
        "Scientific simulations\n",
        "Data analysis\n",
        "Game development\n",
        "Artificial intelligence\n",
        "Start your journey with these basic expressions and watch as Python's mathematical capabilities unfold before you!"
      ],
      "metadata": {
        "id": "tKkFAS-R1nCE"
      }
    },
    {
      "cell_type": "code",
      "source": [
        "#This a simple arithmetic expression to mutiply then add integers.\n",
        "(3*4)+5"
      ],
      "metadata": {
        "colab": {
          "base_uri": "https://localhost:8080/"
        },
        "id": "vLf0VV0e2U3C",
        "outputId": "ab41ff2a-c57a-4444-ad46-263f51b5ec96"
      },
      "execution_count": null,
      "outputs": [
        {
          "output_type": "execute_result",
          "data": {
            "text/plain": [
              "17"
            ]
          },
          "metadata": {},
          "execution_count": 3
        }
      ]
    },
    {
      "cell_type": "code",
      "source": [
        "#This will convert 200 minutes to hours by diving by 60\n",
        "horas = round(200/60,2)\n",
        "print(f'O total de horas é {horas}')"
      ],
      "metadata": {
        "colab": {
          "base_uri": "https://localhost:8080/"
        },
        "id": "apqCMDOQ3bU4",
        "outputId": "dcf1f184-d689-45ab-f84d-bee7faade986"
      },
      "execution_count": null,
      "outputs": [
        {
          "output_type": "stream",
          "name": "stdout",
          "text": [
            "O total de horas é 3.33\n"
          ]
        }
      ]
    },
    {
      "cell_type": "markdown",
      "source": [
        "**Objectives**\n",
        "\n",
        "\n",
        "*   List popular languages for Data Science\n",
        "*   List popular libraries for Data Science\n",
        "*   Demonstrate arithmetic expressions in python\n",
        "\n"
      ],
      "metadata": {
        "id": "1oB3HTr84cQy"
      }
    },
    {
      "cell_type": "markdown",
      "source": [
        "## Author:\n",
        "CARLOS MENDES DE SOUSA"
      ],
      "metadata": {
        "id": "pl-EaTAN5-lf"
      }
    },
    {
      "cell_type": "code",
      "source": [],
      "metadata": {
        "id": "O8XT0D3g6W6e"
      },
      "execution_count": null,
      "outputs": []
    }
  ]
}